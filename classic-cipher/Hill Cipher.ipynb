{
 "cells": [
  {
   "cell_type": "code",
   "execution_count": 1,
   "metadata": {
    "jupyter": {
     "source_hidden": true
    }
   },
   "outputs": [],
   "source": [
    "import re\n",
    "import numpy as np\n",
    "from collections import Counter\n",
    "from math import inf\n",
    "from pprint import pprint"
   ]
  },
  {
   "cell_type": "markdown",
   "metadata": {},
   "source": [
    "# 고전 암호 문제풀이\n",
    "\n",
    "Hill 암호를 평문 하나만으로 풀어야 한다. 우선 암호문을 `encrypted.txt`에 저장하였다."
   ]
  },
  {
   "cell_type": "code",
   "execution_count": 2,
   "metadata": {},
   "outputs": [
    {
     "name": "stdout",
     "output_type": "stream",
     "text": [
      "HRDKHUBHAAMAEQMTMZSHGBAKFUBHAASYRXUNKYUAATQCTLUTOGEWVAJGVEIIYTKIOTQRXXQVSQLISVVOCNGCUXPKPIUBOHTVKCFKWNJSEZYSSUTUOESIXKAPVFXNZHAOQTLCGYJVAEHLNNKEESQMKSHKKDFCNZSRHRDKHSDKFXVPTGMKRUPZBIKEVNYEKXMFXKFYMWYUDZDENEWNKDAOUXGPCXZDLCSNFGCMCSNUAOJDBLQTAHEWYZCHQJYKSNUWOKQKONZGOKDXGUXKEMWQMCFGUEAVKHDIIATCHVTGYMGKJMLNPCNAYKMIRWEETIYQKELEGLQOVKISFNUDAJQIQYBXQTMZSHGBAKFZRCNWRSODAFKKXWGAZGDBIUDDHCUDFRFOVSZXADSHYSGLTQBMNEMKDCFSOZSRDYLIHIAXCMGMFEIDNZKOVJEOIEFNWWQEDRLZYZIZXADSHYSGLJYFWDUAKSIOGOZOXWYPBUFEPNBIRJUJNDZJJYMURKNCIKPWLRMRIAGVSXTYNIWPROHLDHQOMBEKZURQCLQOVKISFNUAFQBHGPCLHZTPJVPXIZKLQSNVKIJAEITTNVSVWNFYVATDEMKDCTGIHKZTVGZYXTYQEDBACFMNCAHRDKHSDKFXZXXGMJOSLPSZBMOILMMWRALAFFMNXXDYFBIYQVVOHSWKGBIRJGTBYQLKIJAEQBTAXGFGAVUIJADHQKLFWRJXYFVIGGQZNBHSUIYOZALSKIABLWQNXNXKOAJAIKHXODXWORVDOGBMHOPLQJZALQJZALIKTKLENZHQAVYUEUFEVLUXHGOWNMGWXUIAHGQOMNCKFQLIPBNKVWDLNGMJCOBFKIGBYWPAHMMPQLUTOGECXITZVVAJEOIDCNWMFNLOBGQXCYFWQFWVXWRKWYGBFHJVLBAWBOUQEKHZHSZZIZARYITDCLQFPGBTJMQVSQLIHPEJONCYMZWTVJVZOBOMOHPSXMPUKVAGXIPOQUQUQBCKXZJSZAHEWYHAEMKOJCCCFBEUKVNCAWANSNXISVVOWHQGQFBGWKQEGBIFRGIZUJQWIMFANTGBHWGVAGXIPOQUQTTRMWDHDGRFENKYPZVCLNQAUBTZSRYGVGOWSVROENABMZTOHZRQFUEVPLLIODEYRYLUTOGPYAFHJFIVOSFMPBSHLEKWYWJYTFYETAZQCRFTFHOMACOQVTWKLKYMGIMQDSYNWMFNIEITWMBVVWANBQFVUSKZOTLCCWABAGHWZBZHRDKHDTUOMUUUGQICHNUUQFJYUCQUO\n",
      "length: 1285\n"
     ]
    }
   ],
   "source": [
    "with open('encrypted.txt') as f:\n",
    "    encrypted = f.read().strip()\n",
    "    print(encrypted)\n",
    "print('length: %d' % len(encrypted))"
   ]
  },
  {
   "cell_type": "markdown",
   "metadata": {},
   "source": [
    "평문의 길이는 1285자이고, `1285 = 5 * 257`이다. 즉 blocksize는 5 또는 257이다.\n",
    "\n",
    "정말 무식하게 시도하면 얻을 수 있는 시간복잡도는 `O(d^3*26^d^2)` 정도이다. 이 암호에 COA를 적용하기 위해 [찾아본 결과](https://scholar.google.com/scholar?hl=en&as_sdt=0%2C5&q=ciphertext-only+attack+on+hill&btnG=&oq=hil), [분할 정복을 이용해 `O(26d^2)`까지 시간복잡도를 줄이는 논문](https://eprint.iacr.org/2015/802.pdf)이 있었고, 이를 이용해 보자. (사실 이 논문에서는 CRT를 이용해 무려 `O(d*13^d)`까지 줄였지만, 여기에서는 그정도로 빠른 것은 필요하지 않을 것으로 생각된다. ~~하지만 blocksize가 257이라면?~~)\n",
    "\n",
    "논문의 의사 코드를 그대로 구현하여 보자. (함수 내부의 변수 이름은 논문의 것을 따라갔다.) 우선 주어진 텍스트에 있는 문자들의 normalized frequency를 계산하는 함수 `normalized_freq`을 구현한다."
   ]
  },
  {
   "cell_type": "code",
   "execution_count": 3,
   "metadata": {},
   "outputs": [
    {
     "name": "stdout",
     "output_type": "stream",
     "text": [
      "array([0.33333333, 0.16666667, 0.25      , 0.08333333, 0.08333333,\n",
      "       0.08333333, 0.        , 0.        , 0.        , 0.        ,\n",
      "       0.        , 0.        , 0.        , 0.        , 0.        ,\n",
      "       0.        , 0.        , 0.        , 0.        , 0.        ,\n",
      "       0.        , 0.        , 0.        , 0.        , 0.        ,\n",
      "       0.        ])\n",
      "sum of frequencies: 1\n"
     ]
    }
   ],
   "source": [
    "def normalized_freq(text):\n",
    "    counter = Counter(text)\n",
    "    result = np.zeros((26,))\n",
    "    for i in range(26):\n",
    "        if i not in counter:\n",
    "            result[i] = 0\n",
    "            continue\n",
    "        result[i] = counter[i]\n",
    "    return result / len(text)\n",
    "\n",
    "# some code for testing\n",
    "text = [0, 1, 2, 4, 5, 3, 2, 2, 1, 0, 0, 0]\n",
    "freq = normalized_freq(text)\n",
    "pprint(freq)\n",
    "print('sum of frequencies: %d' % sum(freq))"
   ]
  },
  {
   "cell_type": "markdown",
   "metadata": {},
   "source": [
    "index of maximum likelyhood를 계산하는 함수 `maximum_likelyhood`를 구현하자."
   ]
  },
  {
   "cell_type": "code",
   "execution_count": 4,
   "metadata": {},
   "outputs": [
    {
     "data": {
      "text/plain": [
       "array([1.20274409, 1.00981561, 1.28960734, 0.37829329, 0.24809163,\n",
       "       0.45886272, 0.        , 0.        , 0.        , 0.        ,\n",
       "       0.        , 0.        , 0.        , 0.        , 0.        ,\n",
       "       0.        , 0.        , 0.        , 0.        , 0.        ,\n",
       "       0.        , 0.        , 0.        , 0.        , 0.        ,\n",
       "       0.        ])"
      ]
     },
     "execution_count": 4,
     "metadata": {},
     "output_type": "execute_result"
    }
   ],
   "source": [
    "monogram_prob = np.array([\n",
    "    0.082, 0.015, 0.028, 0.043, 0.127, 0.022, 0.020, 0.061, # ABCDEFGH\n",
    "    0.070, 0.002, 0.008, 0.040, 0.024, 0.067, 0.075, 0.019, # IJKLMNOP\n",
    "    0.001, 0.060, 0.063, 0.091, 0.028, 0.010, 0.023, 0.001, # QRSTUVWX\n",
    "    0.020, 0.001                                            # YZ\n",
    "])\n",
    "\n",
    "def maximum_likelyhood(text):\n",
    "    return -normalized_freq(text) * np.log2(monogram_prob)\n",
    "\n",
    "# some code for testing\n",
    "maximum_likelyhood(text)"
   ]
  },
  {
   "cell_type": "markdown",
   "metadata": {},
   "source": [
    "이를 구현하였으면 주된 코드인, `crack_hill`을 구현하자."
   ]
  },
  {
   "cell_type": "code",
   "execution_count": 5,
   "metadata": {},
   "outputs": [],
   "source": [
    "def crack_hill(ciphertext, blocksize):\n",
    "    assert len(ciphertext) % blocksize == 0\n",
    "\n",
    "    blocks = np.array_split(ciphertext, len(ciphertext) // blocksize)\n",
    "    d = np.zeros((len(blocks), blocksize))\n",
    "    for t in range(blocksize):\n",
    "        for i in range(len(blocks)):\n",
    "            d[i][t] = sum(blocks[i][:t + 1]) % 26\n",
    "    \n",
    "    inv_K = np.zeros((len(blocks), len(blocks)))\n",
    "    I = np.full((blocksize,), -np.inf)\n",
    "    p = np.zeros((len(blocksize),))\n",
    "    iml"
   ]
  }
 ],
 "metadata": {
  "kernelspec": {
   "display_name": "cryptocontest2020",
   "language": "python",
   "name": "cryptocontest2020"
  },
  "language_info": {
   "codemirror_mode": {
    "name": "ipython",
    "version": 3
   },
   "file_extension": ".py",
   "mimetype": "text/x-python",
   "name": "python",
   "nbconvert_exporter": "python",
   "pygments_lexer": "ipython3",
   "version": "3.8.3"
  }
 },
 "nbformat": 4,
 "nbformat_minor": 4
}
